{
  "cells": [
    {
      "cell_type": "markdown",
      "metadata": {
        "id": "xLNMTbnr9YJv"
      },
      "source": [
        "# CPSC 375 Classwork - Introduction to Python\n",
        "\n",
        "[![Open In Colab](https://colab.research.google.com/assets/colab-badge.svg)](https://colab.research.google.com/github/soodk6/cpsc375-classwork/blob/main/python.ipynb)\n",
        "\n",
        "- *Manager*:\n",
        "- *Recorder*:\n",
        "- *Presenter*:\n",
        "- *Timekeeper*:"
      ]
    },
    {
      "cell_type": "markdown",
      "metadata": {
        "id": "6GkvpGQt9YJx"
      },
      "source": [
        "## Part 1 - Slides 21-23"
      ]
    },
    {
      "cell_type": "markdown",
      "metadata": {
        "id": "6dJcJXP99YJy"
      },
      "source": [
        "Calculate the mean of values: 1, 2, 5"
      ]
    },
    {
      "cell_type": "code",
      "execution_count": 4,
      "metadata": {
        "id": "5ci2vJJi9YJy"
      },
      "outputs": [],
      "source": [
        "mean = (1 + 2 + 5) / 3"
      ]
    },
    {
      "cell_type": "markdown",
      "metadata": {
        "id": "4tE6Qdlc9YJy"
      },
      "source": [
        "Calculate the magnitude of vector (1, 2, 5)\n",
        "\n",
        "Magnitude = $\\sqrt{1^2 + 2^2 + 5^2}$"
      ]
    },
    {
      "cell_type": "code",
      "execution_count": 5,
      "metadata": {
        "id": "KERWC3wd9YJy"
      },
      "outputs": [],
      "source": [
        "import math\n",
        "\n",
        "magnitude = math.sqrt((1*1) + (2*2) + (5*5))"
      ]
    },
    {
      "cell_type": "markdown",
      "metadata": {
        "id": "V-XoCE-I9YJz"
      },
      "source": [
        "Normalize the vector\n",
        "\n",
        "*Divide each component by the magnitude (and save to a new variable)*"
      ]
    },
    {
      "cell_type": "code",
      "execution_count": null,
      "metadata": {
        "id": "hHcVTwm79YJz"
      },
      "outputs": [],
      "source": []
    },
    {
      "cell_type": "markdown",
      "metadata": {
        "id": "SHxi4UNJ9YJz"
      },
      "source": [
        "Calculate the magnitude of the normalized vector"
      ]
    },
    {
      "cell_type": "code",
      "execution_count": null,
      "metadata": {
        "id": "gmffcpYZ9YJz"
      },
      "outputs": [],
      "source": []
    },
    {
      "cell_type": "markdown",
      "metadata": {
        "id": "CW_smjdO9YJz"
      },
      "source": [
        "\n",
        "Calculate the mean of 1st 100 numbers: 1, 2, …, 100"
      ]
    },
    {
      "cell_type": "code",
      "execution_count": null,
      "metadata": {
        "id": "iC8Bartj9YJ0"
      },
      "outputs": [],
      "source": []
    },
    {
      "cell_type": "markdown",
      "metadata": {
        "id": "hGJiADST9YJ0"
      },
      "source": [
        "## Part 2 - Slide 33"
      ]
    },
    {
      "cell_type": "code",
      "execution_count": null,
      "metadata": {
        "id": "4Gqg9oj39YJ0"
      },
      "outputs": [],
      "source": [
        "import statsmodels.api as sm\n",
        "\n",
        "iris_dataset = sm.datasets.get_rdataset(\"iris\")\n",
        "iris = iris_dataset.data\n",
        "iris.Species = iris.Species.astype(\"category\")"
      ]
    },
    {
      "cell_type": "markdown",
      "metadata": {
        "id": "NLBSnOLR9YJ0"
      },
      "source": [
        "Show all rows where Species is \"setosa\""
      ]
    },
    {
      "cell_type": "code",
      "execution_count": null,
      "metadata": {
        "id": "S0N3Pjd99YJ1"
      },
      "outputs": [],
      "source": []
    },
    {
      "cell_type": "markdown",
      "metadata": {
        "id": "OfKm40ZO9YJ1"
      },
      "source": [
        "Show all rows where Sepal.Length > 3.0 and Species is \"setosa\""
      ]
    },
    {
      "cell_type": "code",
      "execution_count": null,
      "metadata": {
        "id": "4SA5ovKk9YJ1"
      },
      "outputs": [],
      "source": []
    },
    {
      "cell_type": "markdown",
      "metadata": {
        "id": "yf_k5kiX9YJ1"
      },
      "source": [
        "What is the largest value of Sepal.Length?"
      ]
    },
    {
      "cell_type": "code",
      "execution_count": null,
      "metadata": {
        "id": "G7bI7NG09YJ1"
      },
      "outputs": [],
      "source": []
    },
    {
      "cell_type": "markdown",
      "metadata": {
        "id": "Cs4JZXii9YJ1"
      },
      "source": [
        "Which row contains this value?"
      ]
    },
    {
      "cell_type": "code",
      "execution_count": null,
      "metadata": {
        "id": "U4_Jhovn9YJ1"
      },
      "outputs": [],
      "source": []
    },
    {
      "cell_type": "markdown",
      "metadata": {
        "id": "M0bsiD329YJ1"
      },
      "source": [
        "What Species corresponds to this largest Sepal.Length?"
      ]
    },
    {
      "cell_type": "code",
      "execution_count": null,
      "metadata": {
        "id": "zugosbkH9YJ1"
      },
      "outputs": [],
      "source": []
    },
    {
      "cell_type": "markdown",
      "metadata": {
        "id": "AAZTQqVU9YJ1"
      },
      "source": [
        "## Part 3 - Slide 37"
      ]
    },
    {
      "cell_type": "code",
      "execution_count": null,
      "metadata": {
        "id": "GDalnQW49YJ1"
      },
      "outputs": [],
      "source": [
        "airquality_dataset = sm.datasets.get_rdataset(\"airquality\")\n",
        "airquality = airquality_dataset.data"
      ]
    },
    {
      "cell_type": "markdown",
      "metadata": {
        "id": "kiLHNBtz9YJ1"
      },
      "source": [
        "Consider the data airquality\n",
        "\n",
        "- How many rows, columns, what are the variable names?"
      ]
    },
    {
      "cell_type": "code",
      "execution_count": null,
      "metadata": {
        "id": "8CsP1JcG9YJ1"
      },
      "outputs": [],
      "source": []
    },
    {
      "cell_type": "markdown",
      "metadata": {
        "id": "nrH7u9U69YJ1"
      },
      "source": [
        "Are there any NAs in column Ozone?\n",
        "- How many NAs in column Ozone?\n",
        "- Which rows have NAs in column Ozone?"
      ]
    },
    {
      "cell_type": "code",
      "execution_count": null,
      "metadata": {
        "id": "wTf1bBwx9YJ1"
      },
      "outputs": [],
      "source": []
    },
    {
      "cell_type": "markdown",
      "metadata": {
        "id": "23DDx3OF9YJ1"
      },
      "source": [
        "What is the mean of the Ozone variable?"
      ]
    },
    {
      "cell_type": "code",
      "execution_count": null,
      "metadata": {
        "id": "1ivXyB6M9YJ1"
      },
      "outputs": [],
      "source": []
    }
  ],
  "metadata": {
    "kernelspec": {
      "display_name": "cpsc375-python",
      "language": "python",
      "name": "python3"
    },
    "language_info": {
      "codemirror_mode": {
        "name": "ipython",
        "version": 3
      },
      "file_extension": ".py",
      "mimetype": "text/x-python",
      "name": "python",
      "nbconvert_exporter": "python",
      "pygments_lexer": "ipython3",
      "version": "3.11.7"
    },
    "colab": {
      "provenance": []
    }
  },
  "nbformat": 4,
  "nbformat_minor": 0
}